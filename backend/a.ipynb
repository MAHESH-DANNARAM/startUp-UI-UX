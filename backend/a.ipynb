{
 "cells": [
  {
   "cell_type": "code",
   "execution_count": 2,
   "metadata": {},
   "outputs": [
    {
     "name": "stdout",
     "output_type": "stream",
     "text": [
      "```mermaid\n",
      "pie title Pets Adopted by Volunteers\n",
      "  \"Dogs\": 386\n",
      "  \"Cats\": 85\n",
      "  \"Rats\": 15\n",
      "```\n",
      "\n"
     ]
    }
   ],
   "source": [
    "import requests\n",
    "\n",
    "url = \"http://127.0.0.1:5000/generate_pie_chart\"\n",
    "headers = {'Content-Type': 'application/json'}\n",
    "instruction = 'Generate Mermaid Markdown text for Pie chart Title: Pets Adopted by Volunteers \"Dogs\": 386 \"Cats\": 85 \"Rats\": 15'\n",
    "data = {'instruction': instruction}\n",
    "\n",
    "response = requests.post(url, json=data, headers=headers)\n",
    "if response.status_code == 200:\n",
    "    result = response.json()['result']\n",
    "    print(result)\n",
    "else:\n",
    "    print(f\"Error: {response.status_code}, {response.json()['error']}\")\n"
   ]
  },
  {
   "cell_type": "code",
   "execution_count": null,
   "metadata": {},
   "outputs": [],
   "source": [
    "def hide_string(text, string_to_hide):\n",
    "    placeholder = \"REPLACED_STRING\"  # You can choose any placeholder you like\n",
    "    return text.replace(string_to_hide, placeholder)\n",
    "\n",
    "# Example usage:\n",
    "mermaid_code = \"\"\"This is some mermaid code: ' ' '\n",
    "pie title Pets Adopted by Volunteers\n",
    "  \"Dogs\": 386\n",
    "  \"Cats\": 85\n",
    "  \"Rats\": 15\n",
    "' ' '\"\"\"\n",
    "string_to_hide = \"\"\"mermaid ' ' '\"\"\"\n",
    "hidden_code = hide_string(mermaid_code, string_to_hide)\n",
    "print(hidden_code)\n"
   ]
  }
 ],
 "metadata": {
  "kernelspec": {
   "display_name": ".venv",
   "language": "python",
   "name": "python3"
  },
  "language_info": {
   "codemirror_mode": {
    "name": "ipython",
    "version": 3
   },
   "file_extension": ".py",
   "mimetype": "text/x-python",
   "name": "python",
   "nbconvert_exporter": "python",
   "pygments_lexer": "ipython3",
   "version": "3.11.4"
  },
  "orig_nbformat": 4
 },
 "nbformat": 4,
 "nbformat_minor": 2
}
