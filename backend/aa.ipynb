{
 "cells": [
  {
   "cell_type": "code",
   "execution_count": null,
   "metadata": {},
   "outputs": [],
   "source": [
    "import requests\n",
    "\n",
    "url = \"http://127.0.0.1:5000/generate_pie_chart\"\n",
    "headers = {'Content-Type': 'application/json'}\n",
    "instruction = 'Generate Mermaid Markdown text for Pie chart Title: Pets Adopted by Volunteers \"Dogs\": 386 \"Cats\": 85 \"Rats\": 15'\n",
    "data = {'instruction': instruction}\n",
    "\n",
    "response = requests.post(url, json=data, headers=headers)\n",
    "if response.status_code == 200:\n",
    "    result = response.json()['result']\n",
    "    print(result)\n",
    "else:\n",
    "    print(f\"Error: {response.status_code}, {response.json()['error']}\")\n"
   ]
  }
 ],
 "metadata": {
  "kernelspec": {
   "display_name": ".venv",
   "language": "python",
   "name": "python3"
  },
  "language_info": {
   "name": "python",
   "version": "3.11.4"
  },
  "orig_nbformat": 4
 },
 "nbformat": 4,
 "nbformat_minor": 2
}
