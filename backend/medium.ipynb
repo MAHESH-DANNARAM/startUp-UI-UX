{
 "cells": [
  {
   "cell_type": "code",
   "execution_count": null,
   "metadata": {},
   "outputs": [],
   "source": [
    "import databutton as db\n",
    "import requests\n",
    "from bs4 import BeautifulSoup\n",
    "import openai\n",
    "import cohere\n",
    "import streamlit as st"
   ]
  },
  {
   "cell_type": "code",
   "execution_count": null,
   "metadata": {},
   "outputs": [],
   "source": [
    "def scrape_text(url):\n",
    "    # Send a GET request to the URL\n",
    "    response = requests.get(url)\n",
    "\n",
    "    # If the GET request is successful, the status code will be 200\n",
    "    if response.status_code == 200:\n",
    "        # Get the content of the response\n",
    "        page_content = response.content\n",
    "\n",
    "        # Create a BeautifulSoup object and specify the parser\n",
    "        soup = BeautifulSoup(page_content, \"html.parser\")\n",
    "\n",
    "        # Get the text of the soup object\n",
    "        text = soup.get_text()\n",
    "\n",
    "        # Return the text\n",
    "        return text\n",
    "    else:\n",
    "        return \"Failed to scrape the website\""
   ]
  },
  {
   "cell_type": "code",
   "execution_count": null,
   "metadata": {},
   "outputs": [],
   "source": [
    "def mermaid_chart(mindmap_code):\n",
    "    html_code = f\"\"\"\n",
    "    <link rel=\"stylesheet\" href=\"https://cdnjs.cloudflare.com/ajax/libs/font-awesome/5.15.1/css/all.min.css\">\n",
    "    <div class=\"mermaid\">{mindmap_code}</div>\n",
    "    <script src=\"https://cdn.jsdelivr.net/npm/mermaid/dist/mermaid.min.js\"></script>\n",
    "    <script>mermaid.initialize({{startOnLoad:true}});</script>\n",
    "    \"\"\"\n",
    "    return html_code"
   ]
  },
  {
   "cell_type": "code",
   "execution_count": null,
   "metadata": {},
   "outputs": [],
   "source": [
    "def run_models(input_text):\n",
    "    # Note: content is hidden due to length of text, you can add user and assistant roles\n",
    "    response = openai.ChatCompletion.create(\n",
    "        engine=\"GPT35turbo\",\n",
    "        messages=[\n",
    "            {\n",
    "                \"role\": \"system\",\n",
    "                \"content\": \"You are generating a mindmap for someone who has ADHD...\",\n",
    "            },\n",
    "            {\"role\": \"user\", \"content\": input_text},\n",
    "        ],\n",
    "        temperature=0.2,\n",
    "        max_tokens=400,\n",
    "        top_p=0.95,\n",
    "        frequency_penalty=0,\n",
    "        presence_penalty=0,\n",
    "        stop=None,\n",
    "    )\n",
    "\n",
    "    return response"
   ]
  },
  {
   "cell_type": "code",
   "execution_count": null,
   "metadata": {},
   "outputs": [],
   "source": [
    "def summarise(input_text):\n",
    "    co = cohere.Client(\n",
    "        db.secrets.get(\"lox3xFZpdEh4xDt2IFcW6xEo4zh9RtqADPeZrw0r\")\n",
    "    )\n",
    "    response = co.summarize(\n",
    "        text=input_text,\n",
    "        length=\"long\",\n",
    "        format=\"paragraph\",\n",
    "        model=\"summarize-xlarge\",\n",
    "        additional_command=\"What are th\""
   ]
  },
  {
   "cell_type": "code",
   "execution_count": null,
   "metadata": {},
   "outputs": [],
   "source": [
    "import databutton as db\n",
    "import streamlit as st\n",
    "from streamlit.components.v1 import html\n",
    "from utils import scrape_text, mermaid_chart, run_models, summarise\n",
    "\n",
    "# UI\n",
    "st.title(\"AI Generated Mermaid.js Mindmap\")\n",
    "\n",
    "# Creating a form for both caching and clean input box on run\n",
    "form = st.form(\"Form to run\", clear_on_submit=True)\n",
    "\n",
    "url = form.text_input(\"Enter your URL below:\", placeholder=\"Paste any URL of your choice\")\n",
    "\n",
    "if form.form_submit_button(\"Generate Mermaid Mindmap Visual\"):\n",
    "    text = scrape_text(url)\n",
    "    input_text = \"Generate a Mermaid.js mindmap only using the text below:\\n\" + text\n",
    "    with st.expander(\"See full article\"):\n",
    "        st.write(text)\n",
    "    with st.spinner(\"Generating Cohere AI Summary \"):\n",
    "        summary = summarise(text)\n",
    "        st.write(\"### Cohere AI Generated Summary\")\n",
    "        st.write(summary)\n",
    "\n",
    "    with st.spinner(\"Generating Mermaid Code\"):\n",
    "        out = run_models(input_text)\n",
    "\n",
    "    mindmap_code = out[\"choices\"][0][\"message\"][\"content\"][10:-3]\n",
    "    with st.expander(\"See OpenAI Generated Mermaid Code\"):\n",
    "        st.code(mindmap_code)\n",
    "\n",
    "    # Use the html function to display the Mermaid.js diagram\n",
    "    html(mermaid_chart(mindmap_code), width=1500, height=1500)"
   ]
  }
 ],
 "metadata": {
  "kernelspec": {
   "display_name": ".venv",
   "language": "python",
   "name": "python3"
  },
  "language_info": {
   "name": "python",
   "version": "3.11.4"
  },
  "orig_nbformat": 4
 },
 "nbformat": 4,
 "nbformat_minor": 2
}
