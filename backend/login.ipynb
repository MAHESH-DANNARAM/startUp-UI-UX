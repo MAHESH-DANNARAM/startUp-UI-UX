{
 "cells": [
  {
   "cell_type": "code",
   "execution_count": null,
   "metadata": {},
   "outputs": [],
   "source": [
    "import requests\n",
    "\n",
    "url = 'http://localhost:5000/api/register'  # Update the URL as needed\n",
    "\n",
    "data = {\n",
    "    \"first_name\": \"John\",\n",
    "    \"last_name\": \"Doe\",\n",
    "    \"username\": \"johndoe\",\n",
    "    \"phone_number\": \"1234567890\",\n",
    "    \"email\": \"john@example.com\"\n",
    "}\n",
    "\n",
    "response = requests.post(url, json=data)\n",
    "\n",
    "if response.status_code == 201:\n",
    "    print(\"Registration successful!\")\n",
    "elif response.status_code == 400:\n",
    "    print(\"Registration failed. Missing or invalid data.\")\n",
    "else:\n",
    "    print(\"Registration failed. Unexpected error.\")\n"
   ]
  }
 ],
 "metadata": {
  "language_info": {
   "name": "python"
  },
  "orig_nbformat": 4
 },
 "nbformat": 4,
 "nbformat_minor": 2
}
